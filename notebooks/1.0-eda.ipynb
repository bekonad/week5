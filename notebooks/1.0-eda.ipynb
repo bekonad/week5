{
 "cells": [
  {
   "cell_type": "code",
   "execution_count": null,
   "id": "583eb8f9",
   "metadata": {
    "vscode": {
     "languageId": "plaintext"
    }
   },
   "outputs": [],
   "source": [
    "# Save as notebooks/1.0-eda.py (or convert to .ipynb)\n",
    "import pandas as pd\n",
    "import matplotlib.pyplot as plt\n",
    "import seaborn as sns\n",
    "\n",
    "df = pd.read_csv('../data/raw/data.csv')\n",
    "\n",
    "# Overview\n",
    "print(\"Dataset Info:\")\n",
    "print(df.info())\n",
    "print(\"\\nSummary Statistics:\")\n",
    "print(df.describe())\n",
    "print(df.describe(include='object'))\n",
    "\n",
    "# Numerical distributions\n",
    "numerical_cols = ['Amount', 'Value', 'CountryCode', 'PricingStrategy']\n",
    "for col in numerical_cols:\n",
    "    sns.histplot(df[col], kde=True)\n",
    "    plt.title(f'Distribution of {col}')\n",
    "    plt.show()\n",
    "\n",
    "# Categorical distributions\n",
    "categorical_cols = ['ProductCategory', 'ChannelId', 'ProviderId', 'ProductId']\n",
    "for col in categorical_cols:\n",
    "    sns.countplot(y=df[col])\n",
    "    plt.title(f'Distribution of {col}')\n",
    "    plt.show()\n",
    "\n",
    "# Correlation\n",
    "corr = df[numerical_cols].corr()\n",
    "sns.heatmap(corr, annot=True, cmap='coolwarm')\n",
    "plt.title('Correlation Matrix')\n",
    "plt.show()\n",
    "\n",
    "# Missing values\n",
    "print(\"\\nMissing Values:\")\n",
    "print(df.isnull().sum())\n",
    "sns.heatmap(df.isnull(), cbar=False)\n",
    "plt.title('Missing Values')\n",
    "plt.show()\n",
    "\n",
    "# Outliers\n",
    "for col in numerical_cols:\n",
    "    sns.boxplot(x=df[col])\n",
    "    plt.title(f'Boxplot of {col}')\n",
    "    plt.show()\n",
    "\n",
    "# Insights\n",
    "print(\"\"\"\n",
    "Top Insights:\n",
    "1. 'Amount' is skewed with both positive (debits) and negative (credits) values.\n",
    "2. 'ProductCategory' is dominated by categories like 'airtime'.\n",
    "3. Minimal missing values in the dataset.\n",
    "4. Low correlation between numerical features.\n",
    "5. Outliers present in 'Amount' and 'Value'.\n",
    "\"\"\")"
   ]
  }
 ],
 "metadata": {
  "language_info": {
   "name": "python"
  }
 },
 "nbformat": 4,
 "nbformat_minor": 5
}
